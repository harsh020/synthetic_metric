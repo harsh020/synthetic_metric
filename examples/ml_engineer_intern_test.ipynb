{
 "cells": [
  {
   "cell_type": "code",
   "execution_count": 1,
   "metadata": {
    "id": "V-qpb0l2cwe7"
   },
   "outputs": [
    {
     "ename": "ModuleNotFoundError",
     "evalue": "No module named 'pandas'",
     "output_type": "error",
     "traceback": [
      "\u001b[0;31m---------------------------------------------------------------------------\u001b[0m",
      "\u001b[0;31mModuleNotFoundError\u001b[0m                       Traceback (most recent call last)",
      "\u001b[0;32m<ipython-input-1-fada1cde0299>\u001b[0m in \u001b[0;36m<module>\u001b[0;34m\u001b[0m\n\u001b[0;32m----> 1\u001b[0;31m \u001b[0;32mimport\u001b[0m \u001b[0mpandas\u001b[0m \u001b[0;32mas\u001b[0m \u001b[0mpd\u001b[0m\u001b[0;34m\u001b[0m\u001b[0m\n\u001b[0m\u001b[1;32m      2\u001b[0m \u001b[0;31m# You may use any external libraries you need\u001b[0m\u001b[0;34m\u001b[0m\u001b[0;34m\u001b[0m\u001b[0m\n",
      "\u001b[0;31mModuleNotFoundError\u001b[0m: No module named 'pandas'"
     ]
    }
   ],
   "source": [
    "import pandas as pd\n",
    "# You may use any external libraries you need"
   ]
  },
  {
   "cell_type": "code",
   "execution_count": null,
   "metadata": {
    "colab": {
     "base_uri": "https://localhost:8080/",
     "height": 439
    },
    "id": "Qjskbh0Da9cT",
    "outputId": "f67ea084-cae6-48dd-8735-bb9c80d30a67"
   },
   "outputs": [],
   "source": [
    "real_url = 'https://raw.githubusercontent.com/yee-kevin/code-test/main/dataset/real.csv'\n",
    "real_data = pd.read_csv(real_url)\n",
    "display(real_data)"
   ]
  },
  {
   "cell_type": "code",
   "execution_count": null,
   "metadata": {
    "colab": {
     "base_uri": "https://localhost:8080/",
     "height": 439
    },
    "id": "MtmkXGEAeBUZ",
    "outputId": "74d615e1-233a-4e5e-9057-6830cf278ad5"
   },
   "outputs": [],
   "source": [
    "synthetic_url = 'https://raw.githubusercontent.com/yee-kevin/code-test/main/dataset/synthetic.csv'\n",
    "synthetic_data = pd.read_csv(synthetic_url)\n",
    "display(synthetic_data)"
   ]
  },
  {
   "cell_type": "code",
   "execution_count": null,
   "metadata": {
    "id": "xk4MkSESeR5u"
   },
   "outputs": [],
   "source": [
    "# Your task:\n",
    "# Design and code 1-2 NEW success metrics in Python. Use the 1-2 NEW success metrics you have designed to compare the real vs fake data.\n",
    "# Provide a simple explanation of what this success metric does as #comments. \n",
    "\n",
    "# Your code here (edit as neccesary):\n",
    "def metric_1(real_data, synthetic_data):\n",
    "  return None\n",
    "\n",
    "def metric_2(real_data, synthetic_data):\n",
    "  return None"
   ]
  },
  {
   "cell_type": "code",
   "execution_count": null,
   "metadata": {
    "id": "2Fv2dYcKvT25"
   },
   "outputs": [],
   "source": [
    "# Bonus:\n",
    "# Host the new metric functions above as an API and call it in this notebook\n",
    "import sys\n",
    "sys.path.append('/Users/harsh/Desktop/open_source/synthetic_metric')\n",
    "\n",
    "from synmetric.metric import CSTestMetric, KSTestMetric\n",
    "from synmetric.metric import RFCMetric, SVCMetric"
   ]
  },
  {
   "cell_type": "code",
   "execution_count": null,
   "metadata": {
    "colab": {
     "base_uri": "https://localhost:8080/",
     "height": 283
    },
    "id": "BYIsNTasjaZN",
    "outputId": "49d39623-1c72-4e94-c6af-8240f24b0d01"
   },
   "outputs": [],
   "source": [
    "metric = KSTestMetric()"
   ]
  },
  {
   "cell_type": "code",
   "execution_count": null,
   "metadata": {
    "id": "xgHaNTKOlkzR",
    "scrolled": true
   },
   "outputs": [],
   "source": [
    "metric.compute(real_data, synthetic_data)"
   ]
  },
  {
   "cell_type": "code",
   "execution_count": null,
   "metadata": {},
   "outputs": [],
   "source": [
    "import numpy as np\n",
    "np.set_printoptions(threshold=np.inf)\n",
    "    \n",
    "metric = RFCMetric()\n",
    "metric.compute(real_data, synthetic_data)"
   ]
  },
  {
   "cell_type": "code",
   "execution_count": null,
   "metadata": {},
   "outputs": [],
   "source": [
    "metric = SVCMetric()\n",
    "metric.compute(real_data, synthetic_data)"
   ]
  },
  {
   "cell_type": "code",
   "execution_count": null,
   "metadata": {},
   "outputs": [],
   "source": [
    "from sdmetrics.single_table import CSTest, KSTest"
   ]
  },
  {
   "cell_type": "code",
   "execution_count": null,
   "metadata": {},
   "outputs": [],
   "source": [
    "KSTest.compute(real_data, synthetic_data)"
   ]
  },
  {
   "cell_type": "code",
   "execution_count": null,
   "metadata": {},
   "outputs": [],
   "source": [
    "from synmetric.metric import RFPrivacyMetric\n",
    "\n",
    "pmetric = RFPrivacyMetric()\n",
    "pmetric.compute(real_data, synthetic_data)"
   ]
  },
  {
   "cell_type": "code",
   "execution_count": null,
   "metadata": {},
   "outputs": [],
   "source": [
    "# {'CLIENTNUM': -0.09400370636610145,\n",
    "#  'Attrition_Flag': 0.8781,\n",
    "#  'Customer_Age': 0.078628337385385,\n",
    "#  'Gender': 0.8346,\n",
    "#  'Dependent_count': -0.054321222759488696,\n",
    "#  'Education_Level': 0.1937,\n",
    "#  'Marital_Status': 0.463,\n",
    "#  'Income_Category': 0.4689,\n",
    "#  'Card_Category': 0.9113,\n",
    "#  'Months_on_book': 0.08589882546561667,\n",
    "#  'Total_Relationship_Count': 0.05895287938549765,\n",
    "#  'Months_Inactive_12_mon': -0.05306060649697475,\n",
    "#  'Contacts_Count_12_mon': -0.05306623162279367,\n",
    "#  'Credit_Limit': 0.709203875001228,\n",
    "#  'Total_Revolving_Bal': 0.5469088813473064,\n",
    "#  'Avg_Open_To_Buy': 0.7486203246441764,\n",
    "#  'Total_Amt_Chng_Q4_Q1': -0.05165014308063953,\n",
    "#  'Total_Trans_Amt': 0.5077176751648276,\n",
    "#  'Total_Trans_Ct': 0.6158363650566759,\n",
    "#  'Total_Ct_Chng_Q4_Q1': 0.06038844789996389,\n",
    "#  'Avg_Utilization_Ratio': 0.7728910829386515}"
   ]
  },
  {
   "cell_type": "code",
   "execution_count": null,
   "metadata": {},
   "outputs": [],
   "source": [
    "real_data[['Total_Amt_Chng_Q4_Q1', 'Total_Trans_Amt', 'Total_Trans_Ct']].dtypes.values"
   ]
  },
  {
   "cell_type": "code",
   "execution_count": null,
   "metadata": {},
   "outputs": [],
   "source": []
  }
 ],
 "metadata": {
  "colab": {
   "collapsed_sections": [],
   "name": "Copy of ml-engineer-intern-test.ipynb",
   "provenance": []
  },
  "kernelspec": {
   "display_name": "Python 3",
   "language": "python",
   "name": "python3"
  },
  "language_info": {
   "codemirror_mode": {
    "name": "ipython",
    "version": 3
   },
   "file_extension": ".py",
   "mimetype": "text/x-python",
   "name": "python",
   "nbconvert_exporter": "python",
   "pygments_lexer": "ipython3",
   "version": "3.7.0"
  }
 },
 "nbformat": 4,
 "nbformat_minor": 1
}
